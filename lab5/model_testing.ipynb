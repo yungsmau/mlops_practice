{
 "cells": [
  {
   "cell_type": "code",
   "execution_count": null,
   "id": "50094526",
   "metadata": {},
   "outputs": [],
   "source": [
    "import numpy as np\n",
    "import pandas as pd\n",
    "from sklearn.linear_model import LinearRegression\n",
    "import os "
   ]
  },
  {
   "cell_type": "code",
   "execution_count": 5,
   "id": "8138cf50",
   "metadata": {},
   "outputs": [],
   "source": [
    "os.makedirs(\"data\", exist_ok=True)"
   ]
  },
  {
   "cell_type": "markdown",
   "id": "5477e051",
   "metadata": {},
   "source": [
    "### Датасет 1: идеальные данные"
   ]
  },
  {
   "cell_type": "code",
   "execution_count": 6,
   "id": "553d6cc7",
   "metadata": {},
   "outputs": [],
   "source": [
    "X1 = np.linspace(0, 10, 100).reshape(-1, 1)\n",
    "y1 = 3 * X1.flatten() + 5\n",
    "df1 = pd.DataFrame({'x': X1.flatten(), 'y': y1})\n",
    "df1.to_csv('data/clean.csv', index=False)"
   ]
  },
  {
   "cell_type": "markdown",
   "id": "bc043ca9",
   "metadata": {},
   "source": [
    "### Датасет 2: легкий шум"
   ]
  },
  {
   "cell_type": "code",
   "execution_count": null,
   "id": "82b9ffbe",
   "metadata": {},
   "outputs": [],
   "source": [
    "y2 = 3 * X1.flatten() + 5 + np.random.normal(0, 1, size=X1.shape[0])\n",
    "df2 = pd.DataFrame({'x': X1.flatten(), 'y': y2})\n",
    "df2.to_csv('data/little_noise.csv', index=False)"
   ]
  },
  {
   "cell_type": "markdown",
   "id": "f387f4fc",
   "metadata": {},
   "source": [
    "### Датасет 3: линейные данные с шумом и выбросами"
   ]
  },
  {
   "cell_type": "code",
   "execution_count": 8,
   "id": "044f3fe4",
   "metadata": {},
   "outputs": [],
   "source": [
    "y3 = 3 * X1.flatten() + 5 + np.random.normal(0, 3, size=X1.shape[0])\n",
    "df3 = pd.DataFrame({'x': X1.flatten(), 'y': y3})\n",
    "df3.to_csv('data/noisy.csv', index=False)"
   ]
  },
  {
   "cell_type": "code",
   "execution_count": 9,
   "id": "cb3288b7",
   "metadata": {},
   "outputs": [],
   "source": [
    "model = LinearRegression()\n",
    "model.fit(X1, y1)\n",
    "\n",
    "import pickle\n",
    "with open('model.pkl', 'wb') as f:\n",
    "    pickle.dump(model, f)"
   ]
  },
  {
   "cell_type": "code",
   "execution_count": 17,
   "id": "f4222c3a",
   "metadata": {},
   "outputs": [
    {
     "name": "stdout",
     "output_type": "stream",
     "text": [
      "Overwriting test_model.py\n"
     ]
    }
   ],
   "source": [
    "%%writefile test_model.py\n",
    "import pandas as pd\n",
    "import pickle\n",
    "from sklearn.metrics import mean_squared_error, r2_score\n",
    "\n",
    "with open(\"model.pkl\", \"rb\") as f:\n",
    "    model = pickle.load(f)\n",
    "\n",
    "\n",
    "def evaluate(dataset_path):\n",
    "    df = pd.read_csv(dataset_path)\n",
    "    X = df[[\"x\"]]\n",
    "    y = df[[\"y\"]]\n",
    "    y_pred = model.predict(X)\n",
    "    return mean_squared_error(y, y_pred), r2_score(y, y_pred)\n",
    "\n",
    "\n",
    "def test_clean():\n",
    "    mse, r2 = evaluate(\"data/clean.csv\")\n",
    "    assert mse < 1e-6, f\"MSE слишком большая для clean.csv: {mse}\"\n",
    "    assert r2 > 0.9999, f\"R2 слишком низний для clean.csv: {r2}\"\n",
    "\n",
    "\n",
    "def test_little_noise():\n",
    "    mse, r2 = evaluate(\"data/little_noise.csv\")\n",
    "    assert (\n",
    "        mse < 2.0\n",
    "    ), f\"MSE слишком большая для little_noise.csv с небольшим шумом: {mse}\"\n",
    "    assert r2 > 0.98, f\"R2 слишком низкий для little_noise.csv с небольшим шумом: {r2}\"\n",
    "\n",
    "\n",
    "def test_noisy():\n",
    "    mse, r2 = evaluate(\"data/noisy.csv\")\n",
    "    assert mse > 5.0, f\"MSE неожиданно мала для noisy.csv: {mse}\"\n",
    "    assert r2 < 0.95, f\"R2 слишком высок для noisy.csv: {r2}\"\n"
   ]
  },
  {
   "cell_type": "code",
   "execution_count": 18,
   "id": "60f0a6a8",
   "metadata": {},
   "outputs": [
    {
     "name": "stdout",
     "output_type": "stream",
     "text": [
      "\u001b[1m============================= test session starts ==============================\u001b[0m\n",
      "platform darwin -- Python 3.13.3, pytest-8.3.5, pluggy-1.5.0\n",
      "rootdir: /Users/aleksejsmolic/dev/urfu/mlops_practice/lab5\n",
      "collected 3 items                                                              \u001b[0m\u001b[1m\n",
      "\n",
      "test_model.py \u001b[32m.\u001b[0m\u001b[32m.\u001b[0m\u001b[32m.\u001b[0m\u001b[33m                                                        [100%]\u001b[0m\n",
      "\n",
      "\u001b[33m=============================== warnings summary ===============================\u001b[0m\n",
      "test_model.py::test_clean\n",
      "test_model.py::test_little_noise\n",
      "test_model.py::test_noisy\n",
      "  /Users/aleksejsmolic/dev/urfu/mlops_practice/lab5/.venv/lib/python3.13/site-packages/sklearn/utils/validation.py:2732: UserWarning: X has feature names, but LinearRegression was fitted without feature names\n",
      "    warnings.warn(\n",
      "\n",
      "-- Docs: https://docs.pytest.org/en/stable/how-to/capture-warnings.html\n",
      "\u001b[33m======================== \u001b[32m3 passed\u001b[0m, \u001b[33m\u001b[1m3 warnings\u001b[0m\u001b[33m in 1.23s\u001b[0m\u001b[33m =========================\u001b[0m\n"
     ]
    }
   ],
   "source": [
    "!pytest test_model.py"
   ]
  },
  {
   "cell_type": "code",
   "execution_count": null,
   "id": "57aa8d7a",
   "metadata": {},
   "outputs": [],
   "source": []
  }
 ],
 "metadata": {
  "kernelspec": {
   "display_name": ".venv",
   "language": "python",
   "name": "python3"
  },
  "language_info": {
   "codemirror_mode": {
    "name": "ipython",
    "version": 3
   },
   "file_extension": ".py",
   "mimetype": "text/x-python",
   "name": "python",
   "nbconvert_exporter": "python",
   "pygments_lexer": "ipython3",
   "version": "3.13.3"
  }
 },
 "nbformat": 4,
 "nbformat_minor": 5
}
